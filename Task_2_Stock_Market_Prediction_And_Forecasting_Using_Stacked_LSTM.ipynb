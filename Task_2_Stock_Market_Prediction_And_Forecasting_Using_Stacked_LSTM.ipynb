{
  "nbformat": 4,
  "nbformat_minor": 0,
  "metadata": {
    "colab": {
      "name": "Task 2 : Stock Market Prediction And Forecasting Using Stacked LSTM.ipynb",
      "provenance": [],
      "collapsed_sections": []
    },
    "kernelspec": {
      "name": "python3",
      "display_name": "Python 3"
    },
    "language_info": {
      "name": "python"
    }
  },
  "cells": [
    {
      "cell_type": "code",
      "source": [
        "import pandas as pd\n",
        "import numpy as np\n",
        "import scipy.stats as st\n",
        "import os\n",
        "import matplotlib.pyplot as plt\n",
        "import seaborn as sns\n",
        "import datetime\n",
        "import math\n",
        "from sklearn.metrics import mean_squared_error\n",
        "from sklearn.preprocessing import MinMaxScaler"
      ],
      "metadata": {
        "id": "CDwDCtOW5CGJ"
      },
      "execution_count": 52,
      "outputs": []
    },
    {
      "cell_type": "code",
      "source": [
        "pip install keras"
      ],
      "metadata": {
        "colab": {
          "base_uri": "https://localhost:8080/"
        },
        "id": "_zQIYfHj5HXZ",
        "outputId": "25eed75c-aff6-41ec-f780-349071cf9239"
      },
      "execution_count": 53,
      "outputs": [
        {
          "output_type": "stream",
          "name": "stdout",
          "text": [
            "Requirement already satisfied: keras in /usr/local/lib/python3.7/dist-packages (2.7.0)\n"
          ]
        }
      ]
    },
    {
      "cell_type": "code",
      "source": [
        "pip install tensorflow"
      ],
      "metadata": {
        "colab": {
          "base_uri": "https://localhost:8080/"
        },
        "id": "DbRJmu5N5QjB",
        "outputId": "6a023733-9e6c-48bd-a8af-22f836cc9523"
      },
      "execution_count": 54,
      "outputs": [
        {
          "output_type": "stream",
          "name": "stdout",
          "text": [
            "Requirement already satisfied: tensorflow in /usr/local/lib/python3.7/dist-packages (2.7.0)\n",
            "Requirement already satisfied: astunparse>=1.6.0 in /usr/local/lib/python3.7/dist-packages (from tensorflow) (1.6.3)\n",
            "Requirement already satisfied: flatbuffers<3.0,>=1.12 in /usr/local/lib/python3.7/dist-packages (from tensorflow) (2.0)\n",
            "Requirement already satisfied: tensorboard~=2.6 in /usr/local/lib/python3.7/dist-packages (from tensorflow) (2.7.0)\n",
            "Requirement already satisfied: libclang>=9.0.1 in /usr/local/lib/python3.7/dist-packages (from tensorflow) (12.0.0)\n",
            "Requirement already satisfied: termcolor>=1.1.0 in /usr/local/lib/python3.7/dist-packages (from tensorflow) (1.1.0)\n",
            "Requirement already satisfied: protobuf>=3.9.2 in /usr/local/lib/python3.7/dist-packages (from tensorflow) (3.17.3)\n",
            "Requirement already satisfied: numpy>=1.14.5 in /usr/local/lib/python3.7/dist-packages (from tensorflow) (1.19.5)\n",
            "Requirement already satisfied: tensorflow-estimator<2.8,~=2.7.0rc0 in /usr/local/lib/python3.7/dist-packages (from tensorflow) (2.7.0)\n",
            "Requirement already satisfied: six>=1.12.0 in /usr/local/lib/python3.7/dist-packages (from tensorflow) (1.15.0)\n",
            "Requirement already satisfied: google-pasta>=0.1.1 in /usr/local/lib/python3.7/dist-packages (from tensorflow) (0.2.0)\n",
            "Requirement already satisfied: tensorflow-io-gcs-filesystem>=0.21.0 in /usr/local/lib/python3.7/dist-packages (from tensorflow) (0.23.1)\n",
            "Requirement already satisfied: grpcio<2.0,>=1.24.3 in /usr/local/lib/python3.7/dist-packages (from tensorflow) (1.43.0)\n",
            "Requirement already satisfied: keras-preprocessing>=1.1.1 in /usr/local/lib/python3.7/dist-packages (from tensorflow) (1.1.2)\n",
            "Requirement already satisfied: wrapt>=1.11.0 in /usr/local/lib/python3.7/dist-packages (from tensorflow) (1.13.3)\n",
            "Requirement already satisfied: keras<2.8,>=2.7.0rc0 in /usr/local/lib/python3.7/dist-packages (from tensorflow) (2.7.0)\n",
            "Requirement already satisfied: absl-py>=0.4.0 in /usr/local/lib/python3.7/dist-packages (from tensorflow) (1.0.0)\n",
            "Requirement already satisfied: wheel<1.0,>=0.32.0 in /usr/local/lib/python3.7/dist-packages (from tensorflow) (0.37.1)\n",
            "Requirement already satisfied: typing-extensions>=3.6.6 in /usr/local/lib/python3.7/dist-packages (from tensorflow) (3.10.0.2)\n",
            "Requirement already satisfied: gast<0.5.0,>=0.2.1 in /usr/local/lib/python3.7/dist-packages (from tensorflow) (0.4.0)\n",
            "Requirement already satisfied: h5py>=2.9.0 in /usr/local/lib/python3.7/dist-packages (from tensorflow) (3.1.0)\n",
            "Requirement already satisfied: opt-einsum>=2.3.2 in /usr/local/lib/python3.7/dist-packages (from tensorflow) (3.3.0)\n",
            "Requirement already satisfied: cached-property in /usr/local/lib/python3.7/dist-packages (from h5py>=2.9.0->tensorflow) (1.5.2)\n",
            "Requirement already satisfied: setuptools>=41.0.0 in /usr/local/lib/python3.7/dist-packages (from tensorboard~=2.6->tensorflow) (57.4.0)\n",
            "Requirement already satisfied: requests<3,>=2.21.0 in /usr/local/lib/python3.7/dist-packages (from tensorboard~=2.6->tensorflow) (2.23.0)\n",
            "Requirement already satisfied: werkzeug>=0.11.15 in /usr/local/lib/python3.7/dist-packages (from tensorboard~=2.6->tensorflow) (1.0.1)\n",
            "Requirement already satisfied: google-auth<3,>=1.6.3 in /usr/local/lib/python3.7/dist-packages (from tensorboard~=2.6->tensorflow) (1.35.0)\n",
            "Requirement already satisfied: markdown>=2.6.8 in /usr/local/lib/python3.7/dist-packages (from tensorboard~=2.6->tensorflow) (3.3.6)\n",
            "Requirement already satisfied: tensorboard-data-server<0.7.0,>=0.6.0 in /usr/local/lib/python3.7/dist-packages (from tensorboard~=2.6->tensorflow) (0.6.1)\n",
            "Requirement already satisfied: tensorboard-plugin-wit>=1.6.0 in /usr/local/lib/python3.7/dist-packages (from tensorboard~=2.6->tensorflow) (1.8.1)\n",
            "Requirement already satisfied: google-auth-oauthlib<0.5,>=0.4.1 in /usr/local/lib/python3.7/dist-packages (from tensorboard~=2.6->tensorflow) (0.4.6)\n",
            "Requirement already satisfied: pyasn1-modules>=0.2.1 in /usr/local/lib/python3.7/dist-packages (from google-auth<3,>=1.6.3->tensorboard~=2.6->tensorflow) (0.2.8)\n",
            "Requirement already satisfied: rsa<5,>=3.1.4 in /usr/local/lib/python3.7/dist-packages (from google-auth<3,>=1.6.3->tensorboard~=2.6->tensorflow) (4.8)\n",
            "Requirement already satisfied: cachetools<5.0,>=2.0.0 in /usr/local/lib/python3.7/dist-packages (from google-auth<3,>=1.6.3->tensorboard~=2.6->tensorflow) (4.2.4)\n",
            "Requirement already satisfied: requests-oauthlib>=0.7.0 in /usr/local/lib/python3.7/dist-packages (from google-auth-oauthlib<0.5,>=0.4.1->tensorboard~=2.6->tensorflow) (1.3.0)\n",
            "Requirement already satisfied: importlib-metadata>=4.4 in /usr/local/lib/python3.7/dist-packages (from markdown>=2.6.8->tensorboard~=2.6->tensorflow) (4.10.1)\n",
            "Requirement already satisfied: zipp>=0.5 in /usr/local/lib/python3.7/dist-packages (from importlib-metadata>=4.4->markdown>=2.6.8->tensorboard~=2.6->tensorflow) (3.7.0)\n",
            "Requirement already satisfied: pyasn1<0.5.0,>=0.4.6 in /usr/local/lib/python3.7/dist-packages (from pyasn1-modules>=0.2.1->google-auth<3,>=1.6.3->tensorboard~=2.6->tensorflow) (0.4.8)\n",
            "Requirement already satisfied: idna<3,>=2.5 in /usr/local/lib/python3.7/dist-packages (from requests<3,>=2.21.0->tensorboard~=2.6->tensorflow) (2.10)\n",
            "Requirement already satisfied: certifi>=2017.4.17 in /usr/local/lib/python3.7/dist-packages (from requests<3,>=2.21.0->tensorboard~=2.6->tensorflow) (2021.10.8)\n",
            "Requirement already satisfied: urllib3!=1.25.0,!=1.25.1,<1.26,>=1.21.1 in /usr/local/lib/python3.7/dist-packages (from requests<3,>=2.21.0->tensorboard~=2.6->tensorflow) (1.24.3)\n",
            "Requirement already satisfied: chardet<4,>=3.0.2 in /usr/local/lib/python3.7/dist-packages (from requests<3,>=2.21.0->tensorboard~=2.6->tensorflow) (3.0.4)\n",
            "Requirement already satisfied: oauthlib>=3.0.0 in /usr/local/lib/python3.7/dist-packages (from requests-oauthlib>=0.7.0->google-auth-oauthlib<0.5,>=0.4.1->tensorboard~=2.6->tensorflow) (3.1.1)\n"
          ]
        }
      ]
    },
    {
      "cell_type": "code",
      "source": [
        "from keras.models import Sequential\n",
        "from keras.layers import Dense\n",
        "from keras.layers import LSTM\n",
        "from keras.layers import Dropout"
      ],
      "metadata": {
        "id": "Jq_RCEg85d5k"
      },
      "execution_count": 55,
      "outputs": []
    },
    {
      "cell_type": "code",
      "source": [
        "df=pd.read_csv(\"https://raw.githubusercontent.com/mwitiderrick/stockprice/master/NSE-TATAGLOBAL.csv\")\n",
        "df"
      ],
      "metadata": {
        "colab": {
          "base_uri": "https://localhost:8080/",
          "height": 423
        },
        "id": "emc5cm8j5h8a",
        "outputId": "e270bca9-112c-4110-9a16-468dd519909b"
      },
      "execution_count": 56,
      "outputs": [
        {
          "output_type": "execute_result",
          "data": {
            "text/html": [
              "\n",
              "  <div id=\"df-d2d97922-bd72-4603-b60f-faa4286441b9\">\n",
              "    <div class=\"colab-df-container\">\n",
              "      <div>\n",
              "<style scoped>\n",
              "    .dataframe tbody tr th:only-of-type {\n",
              "        vertical-align: middle;\n",
              "    }\n",
              "\n",
              "    .dataframe tbody tr th {\n",
              "        vertical-align: top;\n",
              "    }\n",
              "\n",
              "    .dataframe thead th {\n",
              "        text-align: right;\n",
              "    }\n",
              "</style>\n",
              "<table border=\"1\" class=\"dataframe\">\n",
              "  <thead>\n",
              "    <tr style=\"text-align: right;\">\n",
              "      <th></th>\n",
              "      <th>Date</th>\n",
              "      <th>Open</th>\n",
              "      <th>High</th>\n",
              "      <th>Low</th>\n",
              "      <th>Last</th>\n",
              "      <th>Close</th>\n",
              "      <th>Total Trade Quantity</th>\n",
              "      <th>Turnover (Lacs)</th>\n",
              "    </tr>\n",
              "  </thead>\n",
              "  <tbody>\n",
              "    <tr>\n",
              "      <th>0</th>\n",
              "      <td>2018-09-28</td>\n",
              "      <td>234.05</td>\n",
              "      <td>235.95</td>\n",
              "      <td>230.20</td>\n",
              "      <td>233.50</td>\n",
              "      <td>233.75</td>\n",
              "      <td>3069914</td>\n",
              "      <td>7162.35</td>\n",
              "    </tr>\n",
              "    <tr>\n",
              "      <th>1</th>\n",
              "      <td>2018-09-27</td>\n",
              "      <td>234.55</td>\n",
              "      <td>236.80</td>\n",
              "      <td>231.10</td>\n",
              "      <td>233.80</td>\n",
              "      <td>233.25</td>\n",
              "      <td>5082859</td>\n",
              "      <td>11859.95</td>\n",
              "    </tr>\n",
              "    <tr>\n",
              "      <th>2</th>\n",
              "      <td>2018-09-26</td>\n",
              "      <td>240.00</td>\n",
              "      <td>240.00</td>\n",
              "      <td>232.50</td>\n",
              "      <td>235.00</td>\n",
              "      <td>234.25</td>\n",
              "      <td>2240909</td>\n",
              "      <td>5248.60</td>\n",
              "    </tr>\n",
              "    <tr>\n",
              "      <th>3</th>\n",
              "      <td>2018-09-25</td>\n",
              "      <td>233.30</td>\n",
              "      <td>236.75</td>\n",
              "      <td>232.00</td>\n",
              "      <td>236.25</td>\n",
              "      <td>236.10</td>\n",
              "      <td>2349368</td>\n",
              "      <td>5503.90</td>\n",
              "    </tr>\n",
              "    <tr>\n",
              "      <th>4</th>\n",
              "      <td>2018-09-24</td>\n",
              "      <td>233.55</td>\n",
              "      <td>239.20</td>\n",
              "      <td>230.75</td>\n",
              "      <td>234.00</td>\n",
              "      <td>233.30</td>\n",
              "      <td>3423509</td>\n",
              "      <td>7999.55</td>\n",
              "    </tr>\n",
              "    <tr>\n",
              "      <th>...</th>\n",
              "      <td>...</td>\n",
              "      <td>...</td>\n",
              "      <td>...</td>\n",
              "      <td>...</td>\n",
              "      <td>...</td>\n",
              "      <td>...</td>\n",
              "      <td>...</td>\n",
              "      <td>...</td>\n",
              "    </tr>\n",
              "    <tr>\n",
              "      <th>2030</th>\n",
              "      <td>2010-07-27</td>\n",
              "      <td>117.60</td>\n",
              "      <td>119.50</td>\n",
              "      <td>112.00</td>\n",
              "      <td>118.80</td>\n",
              "      <td>118.65</td>\n",
              "      <td>586100</td>\n",
              "      <td>694.98</td>\n",
              "    </tr>\n",
              "    <tr>\n",
              "      <th>2031</th>\n",
              "      <td>2010-07-26</td>\n",
              "      <td>120.10</td>\n",
              "      <td>121.00</td>\n",
              "      <td>117.10</td>\n",
              "      <td>117.10</td>\n",
              "      <td>117.60</td>\n",
              "      <td>658440</td>\n",
              "      <td>780.01</td>\n",
              "    </tr>\n",
              "    <tr>\n",
              "      <th>2032</th>\n",
              "      <td>2010-07-23</td>\n",
              "      <td>121.80</td>\n",
              "      <td>121.95</td>\n",
              "      <td>120.25</td>\n",
              "      <td>120.35</td>\n",
              "      <td>120.65</td>\n",
              "      <td>281312</td>\n",
              "      <td>340.31</td>\n",
              "    </tr>\n",
              "    <tr>\n",
              "      <th>2033</th>\n",
              "      <td>2010-07-22</td>\n",
              "      <td>120.30</td>\n",
              "      <td>122.00</td>\n",
              "      <td>120.25</td>\n",
              "      <td>120.75</td>\n",
              "      <td>120.90</td>\n",
              "      <td>293312</td>\n",
              "      <td>355.17</td>\n",
              "    </tr>\n",
              "    <tr>\n",
              "      <th>2034</th>\n",
              "      <td>2010-07-21</td>\n",
              "      <td>122.10</td>\n",
              "      <td>123.00</td>\n",
              "      <td>121.05</td>\n",
              "      <td>121.10</td>\n",
              "      <td>121.55</td>\n",
              "      <td>658666</td>\n",
              "      <td>803.56</td>\n",
              "    </tr>\n",
              "  </tbody>\n",
              "</table>\n",
              "<p>2035 rows × 8 columns</p>\n",
              "</div>\n",
              "      <button class=\"colab-df-convert\" onclick=\"convertToInteractive('df-d2d97922-bd72-4603-b60f-faa4286441b9')\"\n",
              "              title=\"Convert this dataframe to an interactive table.\"\n",
              "              style=\"display:none;\">\n",
              "        \n",
              "  <svg xmlns=\"http://www.w3.org/2000/svg\" height=\"24px\"viewBox=\"0 0 24 24\"\n",
              "       width=\"24px\">\n",
              "    <path d=\"M0 0h24v24H0V0z\" fill=\"none\"/>\n",
              "    <path d=\"M18.56 5.44l.94 2.06.94-2.06 2.06-.94-2.06-.94-.94-2.06-.94 2.06-2.06.94zm-11 1L8.5 8.5l.94-2.06 2.06-.94-2.06-.94L8.5 2.5l-.94 2.06-2.06.94zm10 10l.94 2.06.94-2.06 2.06-.94-2.06-.94-.94-2.06-.94 2.06-2.06.94z\"/><path d=\"M17.41 7.96l-1.37-1.37c-.4-.4-.92-.59-1.43-.59-.52 0-1.04.2-1.43.59L10.3 9.45l-7.72 7.72c-.78.78-.78 2.05 0 2.83L4 21.41c.39.39.9.59 1.41.59.51 0 1.02-.2 1.41-.59l7.78-7.78 2.81-2.81c.8-.78.8-2.07 0-2.86zM5.41 20L4 18.59l7.72-7.72 1.47 1.35L5.41 20z\"/>\n",
              "  </svg>\n",
              "      </button>\n",
              "      \n",
              "  <style>\n",
              "    .colab-df-container {\n",
              "      display:flex;\n",
              "      flex-wrap:wrap;\n",
              "      gap: 12px;\n",
              "    }\n",
              "\n",
              "    .colab-df-convert {\n",
              "      background-color: #E8F0FE;\n",
              "      border: none;\n",
              "      border-radius: 50%;\n",
              "      cursor: pointer;\n",
              "      display: none;\n",
              "      fill: #1967D2;\n",
              "      height: 32px;\n",
              "      padding: 0 0 0 0;\n",
              "      width: 32px;\n",
              "    }\n",
              "\n",
              "    .colab-df-convert:hover {\n",
              "      background-color: #E2EBFA;\n",
              "      box-shadow: 0px 1px 2px rgba(60, 64, 67, 0.3), 0px 1px 3px 1px rgba(60, 64, 67, 0.15);\n",
              "      fill: #174EA6;\n",
              "    }\n",
              "\n",
              "    [theme=dark] .colab-df-convert {\n",
              "      background-color: #3B4455;\n",
              "      fill: #D2E3FC;\n",
              "    }\n",
              "\n",
              "    [theme=dark] .colab-df-convert:hover {\n",
              "      background-color: #434B5C;\n",
              "      box-shadow: 0px 1px 3px 1px rgba(0, 0, 0, 0.15);\n",
              "      filter: drop-shadow(0px 1px 2px rgba(0, 0, 0, 0.3));\n",
              "      fill: #FFFFFF;\n",
              "    }\n",
              "  </style>\n",
              "\n",
              "      <script>\n",
              "        const buttonEl =\n",
              "          document.querySelector('#df-d2d97922-bd72-4603-b60f-faa4286441b9 button.colab-df-convert');\n",
              "        buttonEl.style.display =\n",
              "          google.colab.kernel.accessAllowed ? 'block' : 'none';\n",
              "\n",
              "        async function convertToInteractive(key) {\n",
              "          const element = document.querySelector('#df-d2d97922-bd72-4603-b60f-faa4286441b9');\n",
              "          const dataTable =\n",
              "            await google.colab.kernel.invokeFunction('convertToInteractive',\n",
              "                                                     [key], {});\n",
              "          if (!dataTable) return;\n",
              "\n",
              "          const docLinkHtml = 'Like what you see? Visit the ' +\n",
              "            '<a target=\"_blank\" href=https://colab.research.google.com/notebooks/data_table.ipynb>data table notebook</a>'\n",
              "            + ' to learn more about interactive tables.';\n",
              "          element.innerHTML = '';\n",
              "          dataTable['output_type'] = 'display_data';\n",
              "          await google.colab.output.renderOutput(dataTable, element);\n",
              "          const docLink = document.createElement('div');\n",
              "          docLink.innerHTML = docLinkHtml;\n",
              "          element.appendChild(docLink);\n",
              "        }\n",
              "      </script>\n",
              "    </div>\n",
              "  </div>\n",
              "  "
            ],
            "text/plain": [
              "            Date    Open    High  ...   Close  Total Trade Quantity  Turnover (Lacs)\n",
              "0     2018-09-28  234.05  235.95  ...  233.75               3069914          7162.35\n",
              "1     2018-09-27  234.55  236.80  ...  233.25               5082859         11859.95\n",
              "2     2018-09-26  240.00  240.00  ...  234.25               2240909          5248.60\n",
              "3     2018-09-25  233.30  236.75  ...  236.10               2349368          5503.90\n",
              "4     2018-09-24  233.55  239.20  ...  233.30               3423509          7999.55\n",
              "...          ...     ...     ...  ...     ...                   ...              ...\n",
              "2030  2010-07-27  117.60  119.50  ...  118.65                586100           694.98\n",
              "2031  2010-07-26  120.10  121.00  ...  117.60                658440           780.01\n",
              "2032  2010-07-23  121.80  121.95  ...  120.65                281312           340.31\n",
              "2033  2010-07-22  120.30  122.00  ...  120.90                293312           355.17\n",
              "2034  2010-07-21  122.10  123.00  ...  121.55                658666           803.56\n",
              "\n",
              "[2035 rows x 8 columns]"
            ]
          },
          "metadata": {},
          "execution_count": 56
        }
      ]
    },
    {
      "cell_type": "code",
      "source": [
        "df.info()"
      ],
      "metadata": {
        "colab": {
          "base_uri": "https://localhost:8080/"
        },
        "id": "KFTI6h5Y8xrX",
        "outputId": "0dc900ca-eab7-47a5-c6fd-f6f40327f938"
      },
      "execution_count": 57,
      "outputs": [
        {
          "output_type": "stream",
          "name": "stdout",
          "text": [
            "<class 'pandas.core.frame.DataFrame'>\n",
            "RangeIndex: 2035 entries, 0 to 2034\n",
            "Data columns (total 8 columns):\n",
            " #   Column                Non-Null Count  Dtype  \n",
            "---  ------                --------------  -----  \n",
            " 0   Date                  2035 non-null   object \n",
            " 1   Open                  2035 non-null   float64\n",
            " 2   High                  2035 non-null   float64\n",
            " 3   Low                   2035 non-null   float64\n",
            " 4   Last                  2035 non-null   float64\n",
            " 5   Close                 2035 non-null   float64\n",
            " 6   Total Trade Quantity  2035 non-null   int64  \n",
            " 7   Turnover (Lacs)       2035 non-null   float64\n",
            "dtypes: float64(6), int64(1), object(1)\n",
            "memory usage: 127.3+ KB\n"
          ]
        }
      ]
    },
    {
      "cell_type": "code",
      "source": [
        "df1=df.reset_index()['Close']\n",
        "df1"
      ],
      "metadata": {
        "colab": {
          "base_uri": "https://localhost:8080/"
        },
        "id": "qfxOj6-Z8z3M",
        "outputId": "0b65fe54-2cee-42d7-af7e-31cb7a969c61"
      },
      "execution_count": 58,
      "outputs": [
        {
          "output_type": "execute_result",
          "data": {
            "text/plain": [
              "0       233.75\n",
              "1       233.25\n",
              "2       234.25\n",
              "3       236.10\n",
              "4       233.30\n",
              "         ...  \n",
              "2030    118.65\n",
              "2031    117.60\n",
              "2032    120.65\n",
              "2033    120.90\n",
              "2034    121.55\n",
              "Name: Close, Length: 2035, dtype: float64"
            ]
          },
          "metadata": {},
          "execution_count": 58
        }
      ]
    },
    {
      "cell_type": "code",
      "source": [
        "df1.shape"
      ],
      "metadata": {
        "colab": {
          "base_uri": "https://localhost:8080/"
        },
        "id": "xeNKVgNU83K_",
        "outputId": "4512fca0-ae50-473e-bd30-1a42c5d1a365"
      },
      "execution_count": 59,
      "outputs": [
        {
          "output_type": "execute_result",
          "data": {
            "text/plain": [
              "(2035,)"
            ]
          },
          "metadata": {},
          "execution_count": 59
        }
      ]
    },
    {
      "cell_type": "code",
      "source": [
        "plt.plot(df1)\n",
        "plt.rcParams['figure.figsize'] = [15,7]\n",
        "plt.title('CLOSING GRAPH OF STOCK-MARKET')"
      ],
      "metadata": {
        "colab": {
          "base_uri": "https://localhost:8080/",
          "height": 461
        },
        "id": "f6eAqtDw86JY",
        "outputId": "9d5b9d5a-6612-438c-a37f-15c754839b9b"
      },
      "execution_count": 60,
      "outputs": [
        {
          "output_type": "execute_result",
          "data": {
            "text/plain": [
              "Text(0.5, 1.0, 'CLOSING GRAPH OF STOCK-MARKET')"
            ]
          },
          "metadata": {},
          "execution_count": 60
        },
        {
          "output_type": "display_data",
          "data": {
            "image/png": "[encoded data removed]",
            "text/plain": [
              "<Figure size 1080x504 with 1 Axes>"
            ]
          },
          "metadata": {
            "needs_background": "light"
          }
        }
      ]
    },
    {
      "cell_type": "code",
      "source": [
        "scaler = MinMaxScaler(feature_range=(0,1))   \n",
        "df1 = scaler.fit_transform(np.array(df1).reshape(-1,1))\n",
        "df1"
      ],
      "metadata": {
        "colab": {
          "base_uri": "https://localhost:8080/"
        },
        "id": "xul_IFgx8-QC",
        "outputId": "8039fcd0-5357-46e0-c2b6-7494be15e9d8"
      },
      "execution_count": 61,
      "outputs": [
        {
          "output_type": "execute_result",
          "data": {
            "text/plain": [
              "array([[0.62418301],\n",
              "       [0.62214052],\n",
              "       [0.62622549],\n",
              "       ...,\n",
              "       [0.1621732 ],\n",
              "       [0.16319444],\n",
              "       [0.16584967]])"
            ]
          },
          "metadata": {},
          "execution_count": 61
        }
      ]
    },
    {
      "cell_type": "code",
      "source": [
        "train_size = int(len(df1)*0.7)      \n",
        "test_size = len(df1)-train_size    \n",
        "train_data = df1[0:train_size,:]\n",
        "test_data = df1[train_size:len(df1),:]"
      ],
      "metadata": {
        "id": "H2yPXzio9A6R"
      },
      "execution_count": 62,
      "outputs": []
    },
    {
      "cell_type": "code",
      "source": [
        "train_data.shape"
      ],
      "metadata": {
        "colab": {
          "base_uri": "https://localhost:8080/"
        },
        "id": "pG1xDPPl9HPd",
        "outputId": "2de6034f-4899-4abb-a24e-4d93adb927e5"
      },
      "execution_count": 63,
      "outputs": [
        {
          "output_type": "execute_result",
          "data": {
            "text/plain": [
              "(1424, 1)"
            ]
          },
          "metadata": {},
          "execution_count": 63
        }
      ]
    },
    {
      "cell_type": "code",
      "source": [
        "test_data.shape"
      ],
      "metadata": {
        "colab": {
          "base_uri": "https://localhost:8080/"
        },
        "id": "R5uWd9da9KHO",
        "outputId": "712ed4d4-c1cd-46e9-dbb4-b3125d8fc0f4"
      },
      "execution_count": 64,
      "outputs": [
        {
          "output_type": "execute_result",
          "data": {
            "text/plain": [
              "(611, 1)"
            ]
          },
          "metadata": {},
          "execution_count": 64
        }
      ]
    },
    {
      "cell_type": "code",
      "source": [
        "def select_data(dataset, time_step=1):\n",
        "    dataX, dataY = [], []\n",
        "    for i in range(len(dataset)-time_step-1):\n",
        "        dataX.append(dataset[i:(i+time_step), 0])\n",
        "        dataY.append(dataset[i + time_step, 0])\n",
        "    return np.array(dataX), np.array(dataY)"
      ],
      "metadata": {
        "id": "kegfhyRe9Md3"
      },
      "execution_count": 65,
      "outputs": []
    },
    {
      "cell_type": "code",
      "source": [
        "timestep = 200\n",
        "\n",
        "X_train, y_train = select_data(train_data, timestep)\n",
        "X_test, y_test = select_data(test_data, timestep)"
      ],
      "metadata": {
        "id": "xtlMI2uu9PU-"
      },
      "execution_count": 66,
      "outputs": []
    },
    {
      "cell_type": "code",
      "source": [
        "X_train, y_train"
      ],
      "metadata": {
        "colab": {
          "base_uri": "https://localhost:8080/"
        },
        "id": "0ZBj3-0M9RCq",
        "outputId": "7eb6e70a-0407-4e63-886c-eb852eb03076"
      },
      "execution_count": 67,
      "outputs": [
        {
          "output_type": "execute_result",
          "data": {
            "text/plain": [
              "(array([[0.62418301, 0.62214052, 0.62622549, ..., 0.84497549, 0.8880719 ,\n",
              "         0.84763072],\n",
              "        [0.62214052, 0.62622549, 0.63378268, ..., 0.8880719 , 0.84763072,\n",
              "         0.82945261],\n",
              "        [0.62622549, 0.63378268, 0.62234477, ..., 0.84763072, 0.82945261,\n",
              "         0.79248366],\n",
              "        ...,\n",
              "        [0.33047386, 0.32128268, 0.34007353, ..., 0.33415033, 0.33986928,\n",
              "         0.34681373],\n",
              "        [0.32128268, 0.34007353, 0.3310866 , ..., 0.33986928, 0.34681373,\n",
              "         0.3500817 ],\n",
              "        [0.34007353, 0.3310866 , 0.31495098, ..., 0.34681373, 0.3500817 ,\n",
              "         0.32618464]]),\n",
              " array([0.82945261, 0.79248366, 0.8129085 , ..., 0.3500817 , 0.32618464,\n",
              "        0.32271242]))"
            ]
          },
          "metadata": {},
          "execution_count": 67
        }
      ]
    },
    {
      "cell_type": "code",
      "source": [
        "X_test, y_test"
      ],
      "metadata": {
        "colab": {
          "base_uri": "https://localhost:8080/"
        },
        "id": "edHbcxzl9S9k",
        "outputId": "4040503a-0051-4085-9231-4f22984c920e"
      },
      "execution_count": 68,
      "outputs": [
        {
          "output_type": "execute_result",
          "data": {
            "text/plain": [
              "(array([[0.32148693, 0.32352941, 0.3255719 , ..., 0.16115196, 0.15175654,\n",
              "         0.14644608],\n",
              "        [0.32352941, 0.3255719 , 0.32638889, ..., 0.15175654, 0.14644608,\n",
              "         0.15216503],\n",
              "        [0.3255719 , 0.32638889, 0.33496732, ..., 0.14644608, 0.15216503,\n",
              "         0.1435866 ],\n",
              "        ...,\n",
              "        [0.06944444, 0.08088235, 0.07700163, ..., 0.14562908, 0.15236928,\n",
              "         0.15400327],\n",
              "        [0.08088235, 0.07700163, 0.0684232 , ..., 0.15236928, 0.15400327,\n",
              "         0.14971405],\n",
              "        [0.07700163, 0.0684232 , 0.06781046, ..., 0.15400327, 0.14971405,\n",
              "         0.1621732 ]]),\n",
              " array([0.15216503, 0.1435866 , 0.13419118, 0.1431781 , 0.16115196,\n",
              "        0.16176471, 0.17320261, 0.18218954, 0.16237745, 0.13112745,\n",
              "        0.15931373, 0.15951797, 0.14808007, 0.16278595, 0.15625   ,\n",
              "        0.16319444, 0.16360294, 0.16278595, 0.16544118, 0.15522876,\n",
              "        0.17197712, 0.1503268 , 0.13255719, 0.14338235, 0.15849673,\n",
              "        0.1186683 , 0.11519608, 0.10947712, 0.0692402 , 0.06597222,\n",
              "        0.05841503, 0.05044935, 0.04534314, 0.04779412, 0.05290033,\n",
              "        0.04922386, 0.06638072, 0.07169118, 0.05392157, 0.04881536,\n",
              "        0.04881536, 0.05310458, 0.04963235, 0.05065359, 0.05126634,\n",
              "        0.04963235, 0.05902778, 0.05555556, 0.04084967, 0.03737745,\n",
              "        0.03737745, 0.02655229, 0.02879902, 0.0316585 , 0.0316585 ,\n",
              "        0.03635621, 0.02205882, 0.01674837, 0.01450163, 0.02226307,\n",
              "        0.03615196, 0.02675654, 0.03206699, 0.02696078, 0.03574346,\n",
              "        0.03594771, 0.04044118, 0.03921569, 0.04411765, 0.02982026,\n",
              "        0.0122549 , 0.01286765, 0.01143791, 0.00245098, 0.0059232 ,\n",
              "        0.        , 0.00714869, 0.00428922, 0.0067402 , 0.0063317 ,\n",
              "        0.01123366, 0.01960784, 0.02757353, 0.03002451, 0.03349673,\n",
              "        0.04003268, 0.04084967, 0.03982843, 0.04166667, 0.04370915,\n",
              "        0.04758987, 0.03594771, 0.02839052, 0.02410131, 0.01715686,\n",
              "        0.01531863, 0.01756536, 0.02696078, 0.02696078, 0.03819444,\n",
              "        0.02839052, 0.02369281, 0.02920752, 0.02328431, 0.01919935,\n",
              "        0.00653595, 0.00061275, 0.00796569, 0.01245915, 0.01981209,\n",
              "        0.01940359, 0.02246732, 0.03125   , 0.02348856, 0.0249183 ,\n",
              "        0.02144608, 0.04840686, 0.04575163, 0.03962418, 0.03921569,\n",
              "        0.04758987, 0.04513889, 0.04166667, 0.04125817, 0.05044935,\n",
              "        0.05555556, 0.05494281, 0.05412582, 0.0435049 , 0.04799837,\n",
              "        0.05147059, 0.05065359, 0.03431373, 0.04575163, 0.04187092,\n",
              "        0.04554739, 0.03941993, 0.02716503, 0.03125   , 0.05882353,\n",
              "        0.07148693, 0.08721405, 0.08986928, 0.10498366, 0.08905229,\n",
              "        0.10355392, 0.10375817, 0.12275327, 0.10906863, 0.09660948,\n",
              "        0.1064134 , 0.10457516, 0.11049837, 0.1127451 , 0.09803922,\n",
              "        0.09987745, 0.08925654, 0.0747549 , 0.08169935, 0.08925654,\n",
              "        0.09068627, 0.08129085, 0.08823529, 0.08455882, 0.07945261,\n",
              "        0.08374183, 0.07781863, 0.09824346, 0.09089052, 0.09007353,\n",
              "        0.09558824, 0.06862745, 0.06372549, 0.0494281 , 0.04799837,\n",
              "        0.04534314, 0.0443219 , 0.03941993, 0.0379902 , 0.04656863,\n",
              "        0.05085784, 0.07209967, 0.06535948, 0.07230392, 0.07802288,\n",
              "        0.07741013, 0.06086601, 0.06413399, 0.07046569, 0.05412582,\n",
              "        0.0498366 , 0.05167484, 0.05330882, 0.0435049 , 0.02634804,\n",
              "        0.02410131, 0.02961601, 0.01960784, 0.02961601, 0.04575163,\n",
              "        0.05923203, 0.06678922, 0.06229575, 0.06311275, 0.0629085 ,\n",
              "        0.06658497, 0.07434641, 0.06944444, 0.08088235, 0.07700163,\n",
              "        0.0684232 , 0.06781046, 0.0629085 , 0.0692402 , 0.0755719 ,\n",
              "        0.07781863, 0.08088235, 0.08843954, 0.09395425, 0.09599673,\n",
              "        0.08660131, 0.09027778, 0.08517157, 0.08374183, 0.07945261,\n",
              "        0.09109477, 0.09129902, 0.08803105, 0.09681373, 0.11417484,\n",
              "        0.10498366, 0.09987745, 0.08537582, 0.08047386, 0.06862745,\n",
              "        0.06576797, 0.06147876, 0.07169118, 0.07026144, 0.0747549 ,\n",
              "        0.06821895, 0.0692402 , 0.07066993, 0.06801471, 0.06678922,\n",
              "        0.07414216, 0.07169118, 0.08639706, 0.08312908, 0.06311275,\n",
              "        0.0629085 , 0.05167484, 0.03186275, 0.04003268, 0.03860294,\n",
              "        0.04105392, 0.03390523, 0.03125   , 0.02634804, 0.05861928,\n",
              "        0.06311275, 0.0620915 , 0.05535131, 0.08455882, 0.05514706,\n",
              "        0.06045752, 0.0557598 , 0.0439134 , 0.02920752, 0.02818627,\n",
              "        0.04718137, 0.06045752, 0.05861928, 0.06168301, 0.06699346,\n",
              "        0.07087418, 0.0755719 , 0.07700163, 0.10375817, 0.10314542,\n",
              "        0.10334967, 0.10089869, 0.10437092, 0.09803922, 0.09722222,\n",
              "        0.09783497, 0.09579248, 0.09109477, 0.09313725, 0.08558007,\n",
              "        0.09517974, 0.11172386, 0.12275327, 0.12806373, 0.1313317 ,\n",
              "        0.12479575, 0.11090686, 0.10743464, 0.11621732, 0.11683007,\n",
              "        0.11764706, 0.12888072, 0.12847222, 0.13337418, 0.14236111,\n",
              "        0.14093137, 0.13970588, 0.13827614, 0.13541667, 0.13010621,\n",
              "        0.12254902, 0.12479575, 0.13848039, 0.14011438, 0.13888889,\n",
              "        0.13541667, 0.14011438, 0.1380719 , 0.13071895, 0.13071895,\n",
              "        0.12867647, 0.11846405, 0.14644608, 0.14808007, 0.15910948,\n",
              "        0.15992647, 0.15788399, 0.16441993, 0.17892157, 0.17933007,\n",
              "        0.19260621, 0.20812908, 0.18974673, 0.18055556, 0.18239379,\n",
              "        0.17708333, 0.17810458, 0.18055556, 0.17810458, 0.17851307,\n",
              "        0.19607843, 0.18913399, 0.18954248, 0.19403595, 0.19444444,\n",
              "        0.20200163, 0.19771242, 0.19934641, 0.19873366, 0.1997549 ,\n",
              "        0.2128268 , 0.21568627, 0.20445261, 0.21772876, 0.21098856,\n",
              "        0.21425654, 0.19750817, 0.18811275, 0.17851307, 0.17381536,\n",
              "        0.16033497, 0.16564542, 0.17116013, 0.17422386, 0.18035131,\n",
              "        0.17401961, 0.16278595, 0.16973039, 0.17810458, 0.17034314,\n",
              "        0.16830065, 0.17279412, 0.17544935, 0.18382353, 0.19138072,\n",
              "        0.18913399, 0.19097222, 0.17238562, 0.16830065, 0.1693219 ,\n",
              "        0.17177288, 0.16156046, 0.14971405, 0.1503268 , 0.15196078,\n",
              "        0.14726307, 0.14501634, 0.14603758, 0.12479575, 0.13112745,\n",
              "        0.11397059, 0.1190768 , 0.12377451, 0.13562092, 0.12908497,\n",
              "        0.13459967, 0.12806373, 0.13031046, 0.12724673, 0.13521242,\n",
              "        0.14522059, 0.15257353, 0.14848856, 0.14338235, 0.14562908,\n",
              "        0.15236928, 0.15400327, 0.14971405, 0.1621732 , 0.16319444]))"
            ]
          },
          "metadata": {},
          "execution_count": 68
        }
      ]
    },
    {
      "cell_type": "code",
      "source": [
        "X_train = X_train.reshape(X_train.shape[0],X_train.shape[1] , 1)\n",
        "X_test = X_test.reshape(X_test.shape[0],X_test.shape[1] , 1)"
      ],
      "metadata": {
        "id": "20i4wPnK9WgC"
      },
      "execution_count": 69,
      "outputs": []
    },
    {
      "cell_type": "code",
      "source": [
        "model=Sequential()\n",
        "model.add(LSTM(50,return_sequences=True,input_shape=(timestep,1)))\n",
        "model.add(Dropout(0.2))\n",
        "\n",
        "model.add(LSTM(50,return_sequences=True))\n",
        "model.add(Dropout(0.2))\n",
        "\n",
        "model.add(LSTM(50))\n",
        "model.add(Dropout(0.2))\n",
        "\n",
        "model.add(Dense(1))\n",
        "model.compile(loss='mean_squared_error',optimizer='adam')\n",
        "model.summary()\n",
        "model.fit(X_train, y_train, validation_data = (X_test, y_test),epochs = 50, batch_size = 32, verbose=1)"
      ],
      "metadata": {
        "colab": {
          "base_uri": "https://localhost:8080/"
        },
        "id": "nnup6SLW9ahz",
        "outputId": "9d676ad3-aeca-49da-be4d-ad8303d51c06"
      },
      "execution_count": 70,
      "outputs": [
        {
          "output_type": "stream",
          "name": "stdout",
          "text": [
            "Model: \"sequential_1\"\n",
            "_________________________________________________________________\n",
            " Layer (type)                Output Shape              Param #   \n",
            "=================================================================\n",
            " lstm_3 (LSTM)               (None, 200, 50)           10400     \n",
            "                                                                 \n",
            " dropout_3 (Dropout)         (None, 200, 50)           0         \n",
            "                                                                 \n",
            " lstm_4 (LSTM)               (None, 200, 50)           20200     \n",
            "                                                                 \n",
            " dropout_4 (Dropout)         (None, 200, 50)           0         \n",
            "                                                                 \n",
            " lstm_5 (LSTM)               (None, 50)                20200     \n",
            "                                                                 \n",
            " dropout_5 (Dropout)         (None, 50)                0         \n",
            "                                                                 \n",
            " dense_1 (Dense)             (None, 1)                 51        \n",
            "                                                                 \n",
            "=================================================================\n",
            "Total params: 50,851\n",
            "Trainable params: 50,851\n",
            "Non-trainable params: 0\n",
            "_________________________________________________________________\n",
            "Epoch 1/50\n",
            "39/39 [==============================] - 34s 713ms/step - loss: 0.0096 - val_loss: 0.0039\n",
            "Epoch 2/50\n",
            "39/39 [==============================] - 13s 327ms/step - loss: 0.0019 - val_loss: 0.0020\n",
            "Epoch 3/50\n",
            "39/39 [==============================] - 13s 322ms/step - loss: 0.0018 - val_loss: 0.0020\n",
            "Epoch 4/50\n",
            "39/39 [==============================] - 13s 321ms/step - loss: 0.0017 - val_loss: 0.0023\n",
            "Epoch 5/50\n",
            "39/39 [==============================] - 13s 321ms/step - loss: 0.0016 - val_loss: 0.0013\n",
            "Epoch 6/50\n",
            "39/39 [==============================] - 12s 319ms/step - loss: 0.0015 - val_loss: 0.0023\n",
            "Epoch 7/50\n",
            "39/39 [==============================] - 12s 319ms/step - loss: 0.0017 - val_loss: 0.0014\n",
            "Epoch 8/50\n",
            "39/39 [==============================] - 12s 319ms/step - loss: 0.0015 - val_loss: 0.0012\n",
            "Epoch 9/50\n",
            "39/39 [==============================] - 13s 338ms/step - loss: 0.0015 - val_loss: 0.0011\n",
            "Epoch 10/50\n",
            "39/39 [==============================] - 13s 324ms/step - loss: 0.0015 - val_loss: 6.9280e-04\n",
            "Epoch 11/50\n",
            "39/39 [==============================] - 14s 357ms/step - loss: 0.0015 - val_loss: 0.0011\n",
            "Epoch 12/50\n",
            "39/39 [==============================] - 13s 324ms/step - loss: 0.0013 - val_loss: 7.1796e-04\n",
            "Epoch 13/50\n",
            "39/39 [==============================] - 13s 323ms/step - loss: 0.0015 - val_loss: 0.0010\n",
            "Epoch 14/50\n",
            "39/39 [==============================] - 13s 323ms/step - loss: 0.0013 - val_loss: 7.8628e-04\n",
            "Epoch 15/50\n",
            "39/39 [==============================] - 13s 321ms/step - loss: 0.0012 - val_loss: 5.1787e-04\n",
            "Epoch 16/50\n",
            "39/39 [==============================] - 13s 327ms/step - loss: 0.0011 - val_loss: 7.7495e-04\n",
            "Epoch 17/50\n",
            "39/39 [==============================] - 13s 328ms/step - loss: 9.9102e-04 - val_loss: 0.0011\n",
            "Epoch 18/50\n",
            "39/39 [==============================] - 13s 330ms/step - loss: 9.5438e-04 - val_loss: 0.0012\n",
            "Epoch 19/50\n",
            "39/39 [==============================] - 12s 319ms/step - loss: 0.0012 - val_loss: 0.0017\n",
            "Epoch 20/50\n",
            "39/39 [==============================] - 13s 326ms/step - loss: 0.0012 - val_loss: 4.0557e-04\n",
            "Epoch 21/50\n",
            "39/39 [==============================] - 13s 325ms/step - loss: 0.0010 - val_loss: 0.0011\n",
            "Epoch 22/50\n",
            "39/39 [==============================] - 12s 319ms/step - loss: 0.0010 - val_loss: 6.2420e-04\n",
            "Epoch 23/50\n",
            "39/39 [==============================] - 13s 324ms/step - loss: 8.7984e-04 - val_loss: 8.2628e-04\n",
            "Epoch 24/50\n",
            "39/39 [==============================] - 13s 322ms/step - loss: 9.7222e-04 - val_loss: 5.8040e-04\n",
            "Epoch 25/50\n",
            "39/39 [==============================] - 13s 328ms/step - loss: 9.0708e-04 - val_loss: 9.4074e-04\n",
            "Epoch 26/50\n",
            "39/39 [==============================] - 13s 330ms/step - loss: 9.7134e-04 - val_loss: 5.2161e-04\n",
            "Epoch 27/50\n",
            "39/39 [==============================] - 13s 329ms/step - loss: 9.5526e-04 - val_loss: 3.7762e-04\n",
            "Epoch 28/50\n",
            "39/39 [==============================] - 13s 324ms/step - loss: 8.7738e-04 - val_loss: 3.5883e-04\n",
            "Epoch 29/50\n",
            "39/39 [==============================] - 13s 322ms/step - loss: 8.4884e-04 - val_loss: 6.3732e-04\n",
            "Epoch 30/50\n",
            "39/39 [==============================] - 13s 322ms/step - loss: 7.9185e-04 - val_loss: 4.1708e-04\n",
            "Epoch 31/50\n",
            "39/39 [==============================] - 13s 323ms/step - loss: 7.7320e-04 - val_loss: 0.0011\n",
            "Epoch 32/50\n",
            "39/39 [==============================] - 13s 322ms/step - loss: 7.8933e-04 - val_loss: 6.5288e-04\n",
            "Epoch 33/50\n",
            "39/39 [==============================] - 13s 323ms/step - loss: 7.8833e-04 - val_loss: 6.5105e-04\n",
            "Epoch 34/50\n",
            "39/39 [==============================] - 13s 322ms/step - loss: 7.8539e-04 - val_loss: 3.7474e-04\n",
            "Epoch 35/50\n",
            "39/39 [==============================] - 13s 327ms/step - loss: 7.0998e-04 - val_loss: 6.4718e-04\n",
            "Epoch 36/50\n",
            "39/39 [==============================] - 13s 328ms/step - loss: 7.4899e-04 - val_loss: 4.7706e-04\n",
            "Epoch 37/50\n",
            "39/39 [==============================] - 13s 327ms/step - loss: 7.3573e-04 - val_loss: 3.6828e-04\n",
            "Epoch 38/50\n",
            "39/39 [==============================] - 13s 324ms/step - loss: 6.6705e-04 - val_loss: 3.1659e-04\n",
            "Epoch 39/50\n",
            "39/39 [==============================] - 13s 324ms/step - loss: 7.0268e-04 - val_loss: 6.7661e-04\n",
            "Epoch 40/50\n",
            "39/39 [==============================] - 13s 325ms/step - loss: 6.4763e-04 - val_loss: 3.9612e-04\n",
            "Epoch 41/50\n",
            "39/39 [==============================] - 13s 326ms/step - loss: 7.7215e-04 - val_loss: 2.9070e-04\n",
            "Epoch 42/50\n",
            "39/39 [==============================] - 13s 328ms/step - loss: 6.4429e-04 - val_loss: 5.4396e-04\n",
            "Epoch 43/50\n",
            "39/39 [==============================] - 13s 325ms/step - loss: 6.1610e-04 - val_loss: 4.8320e-04\n",
            "Epoch 44/50\n",
            "39/39 [==============================] - 13s 324ms/step - loss: 6.8873e-04 - val_loss: 3.3093e-04\n",
            "Epoch 45/50\n",
            "39/39 [==============================] - 13s 325ms/step - loss: 6.2301e-04 - val_loss: 3.5282e-04\n",
            "Epoch 46/50\n",
            "39/39 [==============================] - 13s 325ms/step - loss: 6.4889e-04 - val_loss: 2.6347e-04\n",
            "Epoch 47/50\n",
            "39/39 [==============================] - 13s 323ms/step - loss: 6.4202e-04 - val_loss: 6.6060e-04\n",
            "Epoch 48/50\n",
            "39/39 [==============================] - 13s 323ms/step - loss: 5.1414e-04 - val_loss: 2.3943e-04\n",
            "Epoch 49/50\n",
            "39/39 [==============================] - 13s 325ms/step - loss: 6.2534e-04 - val_loss: 3.6960e-04\n",
            "Epoch 50/50\n",
            "39/39 [==============================] - 13s 328ms/step - loss: 6.5940e-04 - val_loss: 7.9807e-04\n"
          ]
        },
        {
          "output_type": "execute_result",
          "data": {
            "text/plain": [
              "<keras.callbacks.History at 0x7ff8b5b16950>"
            ]
          },
          "metadata": {},
          "execution_count": 70
        }
      ]
    },
    {
      "cell_type": "code",
      "source": [
        "#PREDICTIONS\n",
        "train_predict=model.predict(X_train)      \n",
        "test_predict=model.predict(X_test)        \n",
        "\n",
        "\n",
        "train_predict=scaler.inverse_transform(train_predict)\n",
        "test_predict=scaler.inverse_transform(test_predict)"
      ],
      "metadata": {
        "id": "VUjSUy4m9fwW"
      },
      "execution_count": 71,
      "outputs": []
    },
    {
      "cell_type": "code",
      "source": [
        "train_predict"
      ],
      "metadata": {
        "colab": {
          "base_uri": "https://localhost:8080/"
        },
        "id": "c94Ws5nE9oJp",
        "outputId": "48fdc4ff-0830-4f1f-9b7e-bdfaf319f4a4"
      },
      "execution_count": 72,
      "outputs": [
        {
          "output_type": "execute_result",
          "data": {
            "text/plain": [
              "array([[266.71088],\n",
              "       [266.89722],\n",
              "       [264.6715 ],\n",
              "       ...,\n",
              "       [160.26181],\n",
              "       [160.99055],\n",
              "       [160.9179 ]], dtype=float32)"
            ]
          },
          "metadata": {},
          "execution_count": 72
        }
      ]
    },
    {
      "cell_type": "code",
      "source": [
        "test_predict"
      ],
      "metadata": {
        "colab": {
          "base_uri": "https://localhost:8080/"
        },
        "id": "kE3foT3z9u-_",
        "outputId": "d072ba24-8d54-44bb-c5d7-3cf91770aa39"
      },
      "execution_count": 73,
      "outputs": [
        {
          "output_type": "execute_result",
          "data": {
            "text/plain": [
              "array([[121.598076],\n",
              "       [122.15452 ],\n",
              "       [122.134155],\n",
              "       [121.41396 ],\n",
              "       [120.556046],\n",
              "       [120.369354],\n",
              "       [120.84598 ],\n",
              "       [122.00854 ],\n",
              "       [123.72183 ],\n",
              "       [124.94135 ],\n",
              "       [124.522675],\n",
              "       [123.66008 ],\n",
              "       [122.92581 ],\n",
              "       [122.17322 ],\n",
              "       [121.89681 ],\n",
              "       [121.89825 ],\n",
              "       [122.23628 ],\n",
              "       [122.780304],\n",
              "       [123.33568 ],\n",
              "       [123.860504],\n",
              "       [123.992516],\n",
              "       [124.25685 ],\n",
              "       [124.0678  ],\n",
              "       [122.95753 ],\n",
              "       [121.60737 ],\n",
              "       [120.88823 ],\n",
              "       [119.73865 ],\n",
              "       [118.112076],\n",
              "       [116.23671 ],\n",
              "       [113.38935 ],\n",
              "       [110.03303 ],\n",
              "       [106.71123 ],\n",
              "       [103.777115],\n",
              "       [101.44351 ],\n",
              "       [ 99.94851 ],\n",
              "       [ 99.42539 ],\n",
              "       [ 99.56871 ],\n",
              "       [100.54712 ],\n",
              "       [102.1606  ],\n",
              "       [103.44116 ],\n",
              "       [103.94375 ],\n",
              "       [103.754005],\n",
              "       [103.26022 ],\n",
              "       [102.60985 ],\n",
              "       [101.976814],\n",
              "       [101.47286 ],\n",
              "       [101.08114 ],\n",
              "       [101.052025],\n",
              "       [101.22378 ],\n",
              "       [101.04818 ],\n",
              "       [100.42644 ],\n",
              "       [ 99.56777 ],\n",
              "       [ 98.42134 ],\n",
              "       [ 97.27634 ],\n",
              "       [ 96.43256 ],\n",
              "       [ 95.97421 ],\n",
              "       [ 95.981155],\n",
              "       [ 95.93177 ],\n",
              "       [ 95.576126],\n",
              "       [ 94.94882 ],\n",
              "       [ 94.4485  ],\n",
              "       [ 94.58152 ],\n",
              "       [ 94.99259 ],\n",
              "       [ 95.57956 ],\n",
              "       [ 96.04424 ],\n",
              "       [ 96.52906 ],\n",
              "       [ 97.00759 ],\n",
              "       [ 97.529   ],\n",
              "       [ 97.98304 ],\n",
              "       [ 98.43012 ],\n",
              "       [ 98.43073 ],\n",
              "       [ 97.53522 ],\n",
              "       [ 96.06009 ],\n",
              "       [ 94.43281 ],\n",
              "       [ 92.77529 ],\n",
              "       [ 91.42775 ],\n",
              "       [ 90.39121 ],\n",
              "       [ 89.88963 ],\n",
              "       [ 89.803734],\n",
              "       [ 90.05093 ],\n",
              "       [ 90.47064 ],\n",
              "       [ 91.0537  ],\n",
              "       [ 91.905396],\n",
              "       [ 93.07555 ],\n",
              "       [ 94.385155],\n",
              "       [ 95.66    ],\n",
              "       [ 96.87318 ],\n",
              "       [ 97.893684],\n",
              "       [ 98.57769 ],\n",
              "       [ 98.94868 ],\n",
              "       [ 99.112   ],\n",
              "       [ 99.235275],\n",
              "       [ 99.0255  ],\n",
              "       [ 98.32894 ],\n",
              "       [ 97.24126 ],\n",
              "       [ 95.87116 ],\n",
              "       [ 94.46899 ],\n",
              "       [ 93.355034],\n",
              "       [ 92.91992 ],\n",
              "       [ 93.10463 ],\n",
              "       [ 93.9784  ],\n",
              "       [ 94.964195],\n",
              "       [ 95.6299  ],\n",
              "       [ 96.05138 ],\n",
              "       [ 96.12633 ],\n",
              "       [ 95.82408 ],\n",
              "       [ 94.95756 ],\n",
              "       [ 93.61438 ],\n",
              "       [ 92.342896],\n",
              "       [ 91.542145],\n",
              "       [ 91.453865],\n",
              "       [ 91.90201 ],\n",
              "       [ 92.68763 ],\n",
              "       [ 93.79118 ],\n",
              "       [ 94.755196],\n",
              "       [ 95.423325],\n",
              "       [ 95.677574],\n",
              "       [ 96.32646 ],\n",
              "       [ 97.28699 ],\n",
              "       [ 98.11992 ],\n",
              "       [ 98.62426 ],\n",
              "       [ 99.019035],\n",
              "       [ 99.27323 ],\n",
              "       [ 99.28738 ],\n",
              "       [ 99.096725],\n",
              "       [ 99.0523  ],\n",
              "       [ 99.33826 ],\n",
              "       [ 99.83105 ],\n",
              "       [100.339836],\n",
              "       [100.45404 ],\n",
              "       [100.3163  ],\n",
              "       [100.17007 ],\n",
              "       [100.07911 ],\n",
              "       [ 99.60385 ],\n",
              "       [ 99.13848 ],\n",
              "       [ 98.744194],\n",
              "       [ 98.565674],\n",
              "       [ 98.42694 ],\n",
              "       [ 97.95623 ],\n",
              "       [ 97.34986 ],\n",
              "       [ 97.548195],\n",
              "       [ 98.85571 ],\n",
              "       [101.23926 ],\n",
              "       [104.08283 ],\n",
              "       [107.1181  ],\n",
              "       [109.353516],\n",
              "       [110.91879 ],\n",
              "       [111.865105],\n",
              "       [112.80937 ],\n",
              "       [113.36208 ],\n",
              "       [113.10751 ],\n",
              "       [112.52015 ],\n",
              "       [111.85033 ],\n",
              "       [111.43627 ],\n",
              "       [111.389694],\n",
              "       [111.20375 ],\n",
              "       [110.88814 ],\n",
              "       [110.25213 ],\n",
              "       [109.05515 ],\n",
              "       [107.80195 ],\n",
              "       [107.033585],\n",
              "       [106.87374 ],\n",
              "       [106.913185],\n",
              "       [107.18319 ],\n",
              "       [107.49183 ],\n",
              "       [107.60558 ],\n",
              "       [107.64746 ],\n",
              "       [107.5085  ],\n",
              "       [107.81369 ],\n",
              "       [108.320045],\n",
              "       [108.79701 ],\n",
              "       [109.284874],\n",
              "       [108.96538 ],\n",
              "       [107.814285],\n",
              "       [105.8704  ],\n",
              "       [103.627235],\n",
              "       [101.52786 ],\n",
              "       [ 99.87689 ],\n",
              "       [ 98.68135 ],\n",
              "       [ 97.911644],\n",
              "       [ 97.764595],\n",
              "       [ 98.23507 ],\n",
              "       [ 99.6518  ],\n",
              "       [101.41977 ],\n",
              "       [103.228195],\n",
              "       [104.909706],\n",
              "       [106.22138 ],\n",
              "       [106.580734],\n",
              "       [106.19546 ],\n",
              "       [105.58435 ],\n",
              "       [104.56098 ],\n",
              "       [103.21205 ],\n",
              "       [101.88582 ],\n",
              "       [100.87431 ],\n",
              "       [100.00445 ],\n",
              "       [ 98.8297  ],\n",
              "       [ 97.4407  ],\n",
              "       [ 96.27953 ],\n",
              "       [ 95.275986],\n",
              "       [ 94.767426],\n",
              "       [ 95.19636 ],\n",
              "       [ 96.69051 ],\n",
              "       [ 98.946106],\n",
              "       [101.21032 ],\n",
              "       [103.01416 ],\n",
              "       [104.1539  ],\n",
              "       [104.749886],\n",
              "       [105.14016 ],\n",
              "       [105.269714],\n",
              "       [105.48975 ],\n",
              "       [105.701126],\n",
              "       [105.59562 ],\n",
              "       [105.19096 ],\n",
              "       [104.50858 ],\n",
              "       [103.91251 ],\n",
              "       [103.72131 ],\n",
              "       [103.96681 ],\n",
              "       [104.56464 ],\n",
              "       [105.51341 ],\n",
              "       [106.731415],\n",
              "       [108.00828 ],\n",
              "       [108.840706],\n",
              "       [109.25147 ],\n",
              "       [109.196434],\n",
              "       [108.78867 ],\n",
              "       [108.107216],\n",
              "       [107.67645 ],\n",
              "       [107.60158 ],\n",
              "       [107.70028 ],\n",
              "       [108.10211 ],\n",
              "       [109.1789  ],\n",
              "       [110.39137 ],\n",
              "       [111.25093 ],\n",
              "       [111.240845],\n",
              "       [110.40467 ],\n",
              "       [108.82377 ],\n",
              "       [106.90304 ],\n",
              "       [104.99242 ],\n",
              "       [103.70763 ],\n",
              "       [103.12399 ],\n",
              "       [103.22826 ],\n",
              "       [103.60026 ],\n",
              "       [104.03608 ],\n",
              "       [104.4623  ],\n",
              "       [104.74592 ],\n",
              "       [104.83632 ],\n",
              "       [104.980865],\n",
              "       [105.13393 ],\n",
              "       [105.6628  ],\n",
              "       [106.36378 ],\n",
              "       [106.46264 ],\n",
              "       [105.94658 ],\n",
              "       [104.78103 ],\n",
              "       [102.78316 ],\n",
              "       [100.66872 ],\n",
              "       [ 98.89428 ],\n",
              "       [ 97.753235],\n",
              "       [ 97.06124 ],\n",
              "       [ 96.64287 ],\n",
              "       [ 96.29625 ],\n",
              "       [ 96.8878  ],\n",
              "       [ 98.394135],\n",
              "       [100.27436 ],\n",
              "       [101.82988 ],\n",
              "       [103.60333 ],\n",
              "       [104.60571 ],\n",
              "       [104.846565],\n",
              "       [104.41854 ],\n",
              "       [103.28488 ],\n",
              "       [101.40322 ],\n",
              "       [ 99.21882 ],\n",
              "       [ 97.738464],\n",
              "       [ 97.53534 ],\n",
              "       [ 98.29845 ],\n",
              "       [ 99.60789 ],\n",
              "       [101.16119 ],\n",
              "       [102.7187  ],\n",
              "       [104.15512 ],\n",
              "       [105.33465 ],\n",
              "       [106.90253 ],\n",
              "       [108.65478 ],\n",
              "       [110.22695 ],\n",
              "       [111.29398 ],\n",
              "       [111.891685],\n",
              "       [111.919106],\n",
              "       [111.507675],\n",
              "       [110.90269 ],\n",
              "       [110.245895],\n",
              "       [109.54051 ],\n",
              "       [108.95628 ],\n",
              "       [108.366714],\n",
              "       [108.0996  ],\n",
              "       [108.64325 ],\n",
              "       [110.094696],\n",
              "       [112.130585],\n",
              "       [114.29483 ],\n",
              "       [115.95686 ],\n",
              "       [116.52004 ],\n",
              "       [116.05119 ],\n",
              "       [115.23692 ],\n",
              "       [114.48178 ],\n",
              "       [113.97402 ],\n",
              "       [114.05211 ],\n",
              "       [114.570496],\n",
              "       [115.410515],\n",
              "       [116.581375],\n",
              "       [117.77583 ],\n",
              "       [118.71647 ],\n",
              "       [119.25917 ],\n",
              "       [119.35385 ],\n",
              "       [118.97885 ],\n",
              "       [118.125534],\n",
              "       [117.136665],\n",
              "       [116.66678 ],\n",
              "       [116.80452 ],\n",
              "       [117.30483 ],\n",
              "       [117.81876 ],\n",
              "       [118.33179 ],\n",
              "       [118.722534],\n",
              "       [118.74609 ],\n",
              "       [118.47306 ],\n",
              "       [118.00621 ],\n",
              "       [117.21014 ],\n",
              "       [117.07433 ],\n",
              "       [117.67767 ],\n",
              "       [119.01186 ],\n",
              "       [120.65862 ],\n",
              "       [122.120476],\n",
              "       [123.332756],\n",
              "       [124.62258 ],\n",
              "       [125.86451 ],\n",
              "       [127.24782 ],\n",
              "       [129.01698 ],\n",
              "       [130.2797  ],\n",
              "       [130.54459 ],\n",
              "       [130.06471 ],\n",
              "       [129.07002 ],\n",
              "       [127.95886 ],\n",
              "       [127.08772 ],\n",
              "       [126.50492 ],\n",
              "       [126.21918 ],\n",
              "       [126.69587 ],\n",
              "       [127.51969 ],\n",
              "       [128.38017 ],\n",
              "       [129.21996 ],\n",
              "       [129.9407  ],\n",
              "       [130.69162 ],\n",
              "       [131.2663  ],\n",
              "       [131.64511 ],\n",
              "       [131.81905 ],\n",
              "       [131.86058 ],\n",
              "       [132.21045 ],\n",
              "       [132.8903  ],\n",
              "       [133.34946 ],\n",
              "       [133.86723 ],\n",
              "       [134.21288 ],\n",
              "       [134.44191 ],\n",
              "       [134.07861 ],\n",
              "       [133.00264 ],\n",
              "       [131.31686 ],\n",
              "       [129.36786 ],\n",
              "       [127.21592 ],\n",
              "       [125.40849 ],\n",
              "       [124.37667 ],\n",
              "       [124.19622 ],\n",
              "       [124.805725],\n",
              "       [125.65977 ],\n",
              "       [126.11199 ],\n",
              "       [126.3073  ],\n",
              "       [126.59818 ],\n",
              "       [126.76477 ],\n",
              "       [126.70725 ],\n",
              "       [126.61171 ],\n",
              "       [126.616135],\n",
              "       [126.95005 ],\n",
              "       [127.71426 ],\n",
              "       [128.59439 ],\n",
              "       [129.39548 ],\n",
              "       [129.43355 ],\n",
              "       [128.69171 ],\n",
              "       [127.57422 ],\n",
              "       [126.53025 ],\n",
              "       [125.48028 ],\n",
              "       [124.20636 ],\n",
              "       [122.93398 ],\n",
              "       [121.94825 ],\n",
              "       [121.22665 ],\n",
              "       [120.716194],\n",
              "       [120.44286 ],\n",
              "       [119.77042 ],\n",
              "       [118.970825],\n",
              "       [117.78763 ],\n",
              "       [116.60445 ],\n",
              "       [115.81481 ],\n",
              "       [115.82427 ],\n",
              "       [116.2658  ],\n",
              "       [116.994995],\n",
              "       [117.59217 ],\n",
              "       [117.983894],\n",
              "       [118.08122 ],\n",
              "       [118.1729  ],\n",
              "       [118.5955  ],\n",
              "       [119.45456 ],\n",
              "       [120.37022 ],\n",
              "       [120.94311 ],\n",
              "       [121.1748  ],\n",
              "       [121.340706],\n",
              "       [121.54417 ],\n",
              "       [121.63257 ],\n",
              "       [121.94921 ]], dtype=float32)"
            ]
          },
          "metadata": {},
          "execution_count": 73
        }
      ]
    },
    {
      "cell_type": "code",
      "source": [
        "math.sqrt(mean_squared_error(y_train,train_predict))"
      ],
      "metadata": {
        "colab": {
          "base_uri": "https://localhost:8080/"
        },
        "id": "InSy4Ihp9yld",
        "outputId": "5ac8f6e4-7815-4a6d-b805-59cb507c5fa3"
      },
      "execution_count": 74,
      "outputs": [
        {
          "output_type": "execute_result",
          "data": {
            "text/plain": [
              "149.25366338061252"
            ]
          },
          "metadata": {},
          "execution_count": 74
        }
      ]
    },
    {
      "cell_type": "code",
      "source": [
        "math.sqrt(mean_squared_error(y_test,test_predict))"
      ],
      "metadata": {
        "colab": {
          "base_uri": "https://localhost:8080/"
        },
        "id": "sdxXHBIK90NU",
        "outputId": "c7252ec4-1753-4fca-f1d8-ef678851311b"
      },
      "execution_count": 75,
      "outputs": [
        {
          "output_type": "execute_result",
          "data": {
            "text/plain": [
              "109.81615551731262"
            ]
          },
          "metadata": {},
          "execution_count": 75
        }
      ]
    },
    {
      "cell_type": "code",
      "source": [
        "t = timestep\n",
        "\n",
        "p1 = np.empty_like(df1)       \n",
        "p1[:,:] =np.nan\n",
        "p1[t : len(train_predict)+t , : ] =  train_predict"
      ],
      "metadata": {
        "id": "fnAwaHdQ92a1"
      },
      "execution_count": 76,
      "outputs": []
    },
    {
      "cell_type": "code",
      "source": [
        "p2 = np.empty_like(df1)       \n",
        "p2[:,:] =np.nan\n",
        "p2[ len(train_predict)+ t*2 + 1 : len(df1) -1 , : ] =  test_predict"
      ],
      "metadata": {
        "id": "jl5UN1rb94jQ"
      },
      "execution_count": 77,
      "outputs": []
    },
    {
      "cell_type": "code",
      "source": [
        "from matplotlib.pyplot import figure\n",
        "plt.plot(scaler.inverse_transform(df1) , color = 'red', label = 'Real Stock Price')\n",
        "plt.plot(p1 , color = 'blue', label = 'Predicted Stock Price 1 - training ')\n",
        "plt.plot(p2 , color = 'green', label = 'Predicted Stock Price 2 - testing ')\n",
        "\n",
        "plt.rcParams['figure.figsize'] = [15,7]\n",
        "plt.legend()\n",
        "plt.show()"
      ],
      "metadata": {
        "colab": {
          "base_uri": "https://localhost:8080/",
          "height": 428
        },
        "id": "_VLBpRHN975x",
        "outputId": "09ad07a5-2697-444b-92c2-f0025bdc7d35"
      },
      "execution_count": 78,
      "outputs": [
        {
          "output_type": "display_data",
          "data": {
            "image/png": "[encoded data removed]",
            "text/plain": [
              "<Figure size 1080x504 with 1 Axes>"
            ]
          },
          "metadata": {
            "needs_background": "light"
          }
        }
      ]
    },
    {
      "cell_type": "code",
      "source": [
        ""
      ],
      "metadata": {
        "id": "IlCIhD_e9-Bc"
      },
      "execution_count": 78,
      "outputs": []
    }
  ]
}